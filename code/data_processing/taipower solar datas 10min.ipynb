{
 "cells": [
  {
   "cell_type": "code",
   "execution_count": 1,
   "id": "d4ad0768",
   "metadata": {},
   "outputs": [
    {
     "name": "stdout",
     "output_type": "stream",
     "text": [
      "Requirement already satisfied: pandas in c:\\users\\user\\anaconda3\\lib\\site-packages (2.0.3)Note: you may need to restart the kernel to use updated packages.\n",
      "\n",
      "Requirement already satisfied: python-dateutil>=2.8.2 in c:\\users\\user\\anaconda3\\lib\\site-packages (from pandas) (2.8.2)\n",
      "Requirement already satisfied: pytz>=2020.1 in c:\\users\\user\\anaconda3\\lib\\site-packages (from pandas) (2023.3.post1)\n",
      "Requirement already satisfied: tzdata>=2022.1 in c:\\users\\user\\anaconda3\\lib\\site-packages (from pandas) (2023.3)\n",
      "Requirement already satisfied: numpy>=1.21.0 in c:\\users\\user\\anaconda3\\lib\\site-packages (from pandas) (1.24.3)\n",
      "Requirement already satisfied: six>=1.5 in c:\\users\\user\\anaconda3\\lib\\site-packages (from python-dateutil>=2.8.2->pandas) (1.16.0)\n"
     ]
    }
   ],
   "source": [
    "pip install pandas"
   ]
  },
  {
   "cell_type": "code",
   "execution_count": 4,
   "id": "75af52ef",
   "metadata": {},
   "outputs": [
    {
     "name": "stdout",
     "output_type": "stream",
     "text": [
      "   機組名稱_clean       start_time         end_time\n",
      "0           U  2020-11-23 1130  2020-11-23 1130\n",
      "1          七美  2018-01-01 0000  2021-10-06 1420\n",
      "2        七美二期  2019-02-19 1540  2019-07-11 1130\n",
      "3          七股  2019-02-19 1540  2021-10-06 1420\n",
      "4        中原大學  2018-01-01 0000  2021-10-06 1420\n",
      "5       中科E/S  2019-02-19 1540  2021-10-06 1420\n",
      "6        中科ES  2021-05-21 2300  2021-05-22 1150\n",
      "7        中部儲運  2018-01-01 0000  2021-10-06 1420\n",
      "8      其它台電自有  2021-10-06 1430  2025-06-22 2220\n",
      "9     其它購電太陽能  2021-10-06 1430  2025-06-22 2220\n",
      "10         北儲  2019-02-19 1540  2021-10-06 1420\n",
      "11         卓蘭  2018-01-01 0000  2021-10-06 1420\n",
      "12        南鹽光  2020-04-10 1030  2025-06-22 2220\n",
      "13      台中生水池  2018-01-01 0000  2021-10-06 1420\n",
      "14       台中龍井  2018-01-01 0000  2021-10-06 1420\n",
      "15         后里  2018-01-01 0000  2021-10-06 1420\n",
      "16        向陽光  2022-11-17 0920  2025-06-22 2220\n",
      "17       嘉義民雄  2018-01-01 0000  2021-10-06 1420\n",
      "18         大潭  2019-02-19 1540  2021-10-06 1420\n",
      "19      大潭生水池  2018-01-01 0000  2021-10-06 1420\n",
      "20        天篷光  2022-06-22 0940  2025-06-22 2220\n",
      "21        天英光  2023-05-10 1420  2025-06-22 2220\n",
      "22        天衝光  2022-06-29 1100  2025-06-22 2220\n",
      "23      天衝天禽光  2022-06-23 2140  2022-06-29 1050\n",
      "24      太陽能購電  2018-01-01 0000  2021-10-06 1420\n",
      "25        寶興光  2022-09-06 1040  2025-06-22 2220\n",
      "26         尖山  2018-01-01 0000  2021-10-06 1420\n",
      "27        崙尾光  2020-11-23 1140  2025-06-22 2220\n",
      "28        廷和光  2024-02-16 1030  2025-06-22 2220\n",
      "29      彰林E/S  2019-02-19 1540  2021-10-06 1420\n",
      "30       彰林ES  2021-05-21 2300  2021-05-22 1150\n",
      "31        彰濱光  2019-06-05 1310  2025-06-22 2220\n",
      "32        志光光  2023-03-09 1550  2025-06-22 2220\n",
      "33        新和光  2024-05-15 1550  2025-06-22 2220\n",
      "34        星崙光  2025-03-14 1320  2025-06-22 2220\n",
      "35        星崴光  2022-05-19 0120  2025-06-22 2220\n",
      "36        星股光  2024-01-25 0850  2025-06-22 2220\n",
      "37        昱昶光  2025-04-15 1530  2025-06-22 2220\n",
      "38      東勢新伯公  2018-01-01 0000  2021-10-06 1420\n",
      "39      核三生水池  2018-01-01 0000  2021-10-06 1420\n",
      "40        永堯光  2024-07-08 1100  2025-06-22 2220\n",
      "41      永安鹽灘地  2018-01-01 0000  2021-10-06 1420\n",
      "42       燕巢倉庫  2019-02-19 1540  2021-10-06 1420\n",
      "43        生利光  2024-04-11 1450  2025-06-22 2220\n",
      "44        碩力光  2022-01-20 0000  2025-06-22 2220\n",
      "45      竹工E/S  2019-02-19 1540  2021-10-06 1420\n",
      "46       竹工ES  2021-05-21 2300  2021-05-22 1150\n",
      "47        聯華光  2023-11-01 1440  2025-06-22 2220\n",
      "48      興達生水池  2018-01-01 0000  2021-10-06 1420\n",
      "49         路北  2018-01-01 0000  2021-10-06 1420\n",
      "50       金門金沙  2018-01-01 0000  2021-10-06 1420\n",
      "51      高雄E/S  2019-02-19 1540  2021-10-06 1420\n",
      "52       高雄ES  2021-05-21 2300  2021-05-22 1150\n",
      "53      龍潭E/S  2019-02-19 1540  2021-10-06 1420\n",
      "54       龍潭ES  2021-05-21 2300  2021-05-22 1150\n",
      "✅ Cleaned timespan summary saved to: C:\\Users\\User\\Downloads\\solar_powerplant_timespan_summary_cleaned.csv\n"
     ]
    }
   ],
   "source": [
    "import pandas as pd\n",
    "import re\n",
    "\n",
    "# File path\n",
    "file_path = r\"C:\\Users\\User\\Downloads\\solar_data_converted.csv\"\n",
    "\n",
    "# Load data\n",
    "df = pd.read_csv(file_path)\n",
    "df.columns = df.columns.str.strip()\n",
    "\n",
    "# Clean plant names by removing parentheses content (including 註...) and trimming spaces\n",
    "df['機組名稱_clean'] = df['機組名稱'].apply(lambda x: re.sub(r\"\\(.*?\\)\", \"\", x).strip())\n",
    "\n",
    "# Group by cleaned name and aggregate timespan\n",
    "summary = df.groupby('機組名稱_clean')['file_time'].agg(['min', 'max']).reset_index()\n",
    "summary = summary.rename(columns={'min': 'start_time', 'max': 'end_time'})\n",
    "\n",
    "# Print summary for review\n",
    "print(summary)\n",
    "\n",
    "# Save to CSV for record\n",
    "output_path = r\"C:\\Users\\User\\Downloads\\solar_powerplant_timespan_summary_cleaned.csv\"\n",
    "summary.to_csv(output_path, index=False, encoding='utf-8-sig')\n",
    "print(f\"✅ Cleaned timespan summary saved to: {output_path}\")\n"
   ]
  }
 ],
 "metadata": {
  "kernelspec": {
   "display_name": "base",
   "language": "python",
   "name": "python3"
  },
  "language_info": {
   "codemirror_mode": {
    "name": "ipython",
    "version": 3
   },
   "file_extension": ".py",
   "mimetype": "text/x-python",
   "name": "python",
   "nbconvert_exporter": "python",
   "pygments_lexer": "ipython3",
   "version": "3.11.5"
  }
 },
 "nbformat": 4,
 "nbformat_minor": 5
}
